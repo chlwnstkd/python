{
 "cells": [
  {
   "cell_type": "code",
   "execution_count": 1,
   "id": "8b0fd10d-9378-4d2c-98da-b38c97f10f23",
   "metadata": {},
   "outputs": [],
   "source": [
    "import folium"
   ]
  },
  {
   "cell_type": "code",
   "execution_count": 2,
   "id": "5f98f60c-516e-41bb-b6c0-b51318671208",
   "metadata": {},
   "outputs": [],
   "source": [
    "map_osm = folium.Map(location=[37.5664106, 126.9778779], zoom_start=15)"
   ]
  },
  {
   "cell_type": "code",
   "execution_count": 3,
   "id": "0068b383-6a4c-42ee-a017-eee879b62a7a",
   "metadata": {},
   "outputs": [],
   "source": [
    "map_osm.save('map.html')"
   ]
  },
  {
   "cell_type": "code",
   "execution_count": 9,
   "id": "be69fa86-c1a0-4cba-8817-88134a9f4f68",
   "metadata": {},
   "outputs": [
    {
     "data": {
      "text/html": [
       "<div>\n",
       "<style scoped>\n",
       "    .dataframe tbody tr th:only-of-type {\n",
       "        vertical-align: middle;\n",
       "    }\n",
       "\n",
       "    .dataframe tbody tr th {\n",
       "        vertical-align: top;\n",
       "    }\n",
       "\n",
       "    .dataframe thead th {\n",
       "        text-align: right;\n",
       "    }\n",
       "</style>\n",
       "<table border=\"1\" class=\"dataframe\">\n",
       "  <thead>\n",
       "    <tr style=\"text-align: right;\">\n",
       "      <th></th>\n",
       "      <th>Unnamed: 0</th>\n",
       "      <th>store</th>\n",
       "      <th>address</th>\n",
       "      <th>phone</th>\n",
       "    </tr>\n",
       "  </thead>\n",
       "  <tbody>\n",
       "    <tr>\n",
       "      <th>0</th>\n",
       "      <td>0</td>\n",
       "      <td>학동역 DT점</td>\n",
       "      <td>서울시 강남구 학동로 211 1층</td>\n",
       "      <td>02-3444-9973</td>\n",
       "    </tr>\n",
       "    <tr>\n",
       "      <th>1</th>\n",
       "      <td>1</td>\n",
       "      <td>차병원점</td>\n",
       "      <td>서울시 강남구 논현로 566 강남차병원1층</td>\n",
       "      <td>02-538-7615</td>\n",
       "    </tr>\n",
       "    <tr>\n",
       "      <th>2</th>\n",
       "      <td>2</td>\n",
       "      <td>강남대로점</td>\n",
       "      <td>서울시 서초구 강남대로 369 1층</td>\n",
       "      <td>02-588-5778</td>\n",
       "    </tr>\n",
       "    <tr>\n",
       "      <th>3</th>\n",
       "      <td>3</td>\n",
       "      <td>강남에스점</td>\n",
       "      <td>서울시 서초구 서초 1306-3호</td>\n",
       "      <td>02-593-5095</td>\n",
       "    </tr>\n",
       "    <tr>\n",
       "      <th>4</th>\n",
       "      <td>4</td>\n",
       "      <td>청담에스점</td>\n",
       "      <td>서울시 강남구 압구정로 461 네이처포엠빌딩B108,109호</td>\n",
       "      <td>02-548-6052</td>\n",
       "    </tr>\n",
       "  </tbody>\n",
       "</table>\n",
       "</div>"
      ],
      "text/plain": [
       "   Unnamed: 0    store                              address         phone\n",
       "0           0  학동역 DT점                 서울시 강남구 학동로 211 1층    02-3444-9973\n",
       "1           1     차병원점            서울시 강남구 논현로 566 강남차병원1층     02-538-7615\n",
       "2           2    강남대로점                서울시 서초구 강남대로 369 1층     02-588-5778\n",
       "3           3    강남에스점                 서울시 서초구 서초 1306-3호     02-593-5095\n",
       "4           4    청담에스점  서울시 강남구 압구정로 461 네이처포엠빌딩B108,109호     02-548-6052"
      ]
     },
     "execution_count": 9,
     "metadata": {},
     "output_type": "execute_result"
    }
   ],
   "source": [
    "CB_file = pd.read_csv('CoffeeBean.csv', encoding='cp949', engine='python')\n",
    "CB_file.head()"
   ]
  },
  {
   "cell_type": "code",
   "execution_count": 5,
   "id": "ae06e3ce-dd61-4b2a-bcf4-f839cd3464db",
   "metadata": {},
   "outputs": [],
   "source": [
    "import pandas as pd"
   ]
  },
  {
   "cell_type": "code",
   "execution_count": null,
   "id": "1bec69c3-4d21-4b78-b37d-e9da91f06207",
   "metadata": {},
   "outputs": [],
   "source": []
  }
 ],
 "metadata": {
  "kernelspec": {
   "display_name": "Python 3 (ipykernel)",
   "language": "python",
   "name": "python3"
  },
  "language_info": {
   "codemirror_mode": {
    "name": "ipython",
    "version": 3
   },
   "file_extension": ".py",
   "mimetype": "text/x-python",
   "name": "python",
   "nbconvert_exporter": "python",
   "pygments_lexer": "ipython3",
   "version": "3.10.11"
  }
 },
 "nbformat": 4,
 "nbformat_minor": 5
}
